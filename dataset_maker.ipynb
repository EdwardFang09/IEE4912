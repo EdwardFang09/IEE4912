{
  "nbformat": 4,
  "nbformat_minor": 0,
  "metadata": {
    "colab": {
      "provenance": [],
      "authorship_tag": "ABX9TyPH4zAXdiu3mwqAJSp1pAAX",
      "include_colab_link": true
    },
    "kernelspec": {
      "name": "python3",
      "display_name": "Python 3"
    },
    "language_info": {
      "name": "python"
    }
  },
  "cells": [
    {
      "cell_type": "markdown",
      "metadata": {
        "id": "view-in-github",
        "colab_type": "text"
      },
      "source": [
        "<a href=\"https://colab.research.google.com/github/EdwardFang09/IEE4912/blob/main/dataset_maker.ipynb\" target=\"_parent\"><img src=\"https://colab.research.google.com/assets/colab-badge.svg\" alt=\"Open In Colab\"/></a>"
      ]
    },
    {
      "cell_type": "code",
      "source": [
        "!pip install datasets"
      ],
      "metadata": {
        "id": "dbL7rm9Ue66A"
      },
      "execution_count": null,
      "outputs": []
    },
    {
      "cell_type": "code",
      "source": [
        "!huggingface-cli login"
      ],
      "metadata": {
        "id": "72bxZRO4mE9D"
      },
      "execution_count": null,
      "outputs": []
    },
    {
      "cell_type": "markdown",
      "source": [
        "Train-test dataset"
      ],
      "metadata": {
        "id": "AKO26PY8jWJ4"
      }
    },
    {
      "source": [
        "import os\n",
        "from datasets import Dataset, Audio, DatasetDict\n",
        "import pandas as pd\n",
        "import re\n",
        "import librosa\n",
        "\n",
        "# Define the folder path\n",
        "folder_path = \"./\"  # Replace with the actual folder path\n",
        "\n",
        "# Define the words and their corresponding patterns\n",
        "words = {\n",
        "    \"sora open browser\": r\"[bB]rowser \\((\\d+)\\)\\.mp3\",\n",
        "    \"sora open chrome\": r\"[cC]hrome \\((\\d+)\\)\\.mp3\",\n",
        "    \"sora end class\": r\"[eE]nd [cC]lass \\((\\d+)\\)\\.mp3\",\n",
        "    \"sora open google\": r\"[gG]oogle \\((\\d+)\\)\\.mp3\",\n",
        "    \"sora open kahoot\": r\"[kK]ahoot \\((\\d+)\\)\\.mp3\",\n",
        "    \"sora open mentimeter\": r\"[mM]entimeter \\((\\d+)\\)\\.mp3\",\n",
        "    \"sora\": r\"[sS]ora \\((\\d+)\\)\\.mp3\",\n",
        "    \"sora start class\": r\"[sS]tart [cC]lass \\((\\d+)\\)\\.mp3\",\n",
        "}\n",
        "\n",
        "# Create a list of audio file paths and sentences\n",
        "audio_paths = []\n",
        "sentences = []\n",
        "\n",
        "for filename in os.listdir(folder_path):\n",
        "    for word, pattern in words.items():\n",
        "        match = re.match(pattern, filename)\n",
        "        if match:\n",
        "            file_path = os.path.join(folder_path, filename)\n",
        "            audio_paths.append(file_path)\n",
        "            sentences.append(word)\n",
        "            break  # Move to the next filename if a match is found\n",
        "\n",
        "# Create the dataset\n",
        "data = {\n",
        "    \"audio\": audio_paths,\n",
        "    \"sentence\": sentences,\n",
        "}\n",
        "df = pd.DataFrame(data)\n",
        "dataset = Dataset.from_pandas(df)\n",
        "dataset = dataset.cast_column(\"audio\", Audio())\n",
        "\n",
        "# Split the dataset into train and test sets\n",
        "dataset = dataset.train_test_split(test_size=0.2, seed=42)\n",
        "\n",
        "# Create a DatasetDict\n",
        "dataset = DatasetDict({\n",
        "    'train': dataset['train'],\n",
        "    'test': dataset['test']\n",
        "})\n",
        "\n",
        "print(dataset)  # To see the output, run the code.\n",
        "\n",
        "# Push the dataset to the Hugging Face Hub\n",
        "dataset.push_to_hub(\"EdwardFang09/IEE4912_Dataset_v2\")"
      ],
      "cell_type": "code",
      "metadata": {
        "id": "IZRPAQNel2zP"
      },
      "execution_count": null,
      "outputs": []
    },
    {
      "cell_type": "markdown",
      "source": [
        "Benchmark dataset"
      ],
      "metadata": {
        "id": "PYANm3jIaCN3"
      }
    },
    {
      "source": [
        "from datasets import load_dataset\n",
        "\n",
        "dataset = load_dataset(\"EdwardFang09/IEE4912_Dataset_v2\")"
      ],
      "cell_type": "code",
      "metadata": {
        "id": "yrca1PDxkFU9"
      },
      "execution_count": null,
      "outputs": []
    },
    {
      "source": [
        "import os\n",
        "from datasets import Dataset, Audio, DatasetDict\n",
        "import pandas as pd\n",
        "import re\n",
        "import librosa\n",
        "\n",
        "# Define the folder path\n",
        "folder_path = \"./\"  # Replace with the actual folder path\n",
        "\n",
        "# Define the words and their corresponding patterns\n",
        "words = {\n",
        "    \"sora open chrome\": r\"chrome.mp3\",\n",
        "    \"sora open kahoot\": r\"kahoot.mp3\",\n",
        "    \"sora open mentimeter\": r\"mentimeter.mp3\",\n",
        "}\n",
        "\n",
        "# Create a list of audio file paths and sentences\n",
        "audio_paths = []\n",
        "sentences = []\n",
        "\n",
        "for filename in os.listdir(folder_path):\n",
        "    for word, pattern in words.items():\n",
        "        match = re.match(pattern, filename)\n",
        "        if match:\n",
        "            file_path = os.path.join(folder_path, filename)\n",
        "            audio_paths.append(file_path)\n",
        "            sentences.append(word)\n",
        "            break  # Move to the next filename if a match is found\n",
        "\n",
        "# Create the benchmark dataset\n",
        "data = {\n",
        "    \"audio\": audio_paths,\n",
        "    \"sentence\": sentences,\n",
        "}\n",
        "df = pd.DataFrame(data)\n",
        "benchmark_dataset = Dataset.from_pandas(df)\n",
        "benchmark_dataset = benchmark_dataset.cast_column(\"audio\", Audio())"
      ],
      "cell_type": "code",
      "metadata": {
        "id": "Z3fogRTKkFwf"
      },
      "execution_count": null,
      "outputs": []
    },
    {
      "source": [
        "dataset[\"benchmark\"] = benchmark_dataset"
      ],
      "cell_type": "code",
      "metadata": {
        "id": "VPTSC337kGlC"
      },
      "execution_count": null,
      "outputs": []
    },
    {
      "source": [
        "dataset.push_to_hub(\"EdwardFang09/IEE4912_Dataset_v2\")"
      ],
      "cell_type": "code",
      "metadata": {
        "id": "sa6kfnNIkGvZ"
      },
      "execution_count": null,
      "outputs": []
    }
  ]
}